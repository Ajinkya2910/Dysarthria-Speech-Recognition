{
 "cells": [
  {
   "cell_type": "markdown",
   "metadata": {},
   "source": [
    "# Run the below two cells if using Google Colab"
   ]
  },
  {
   "cell_type": "code",
   "execution_count": 5,
   "metadata": {
    "colab": {
     "base_uri": "https://localhost:8080/"
    },
    "id": "YfEMAVeWRsAy",
    "outputId": "54fb9c0c-b003-46ca-de18-ad4636a00264"
   },
   "outputs": [
    {
     "name": "stdout",
     "output_type": "stream",
     "text": [
      "Mounted at /content/drive\n"
     ]
    }
   ],
   "source": [
    "# if your running the code in colab then run this cell but if running in local ignore this cell\n",
    "from google.colab import drive\n",
    "drive.mount('/content/drive',force_remount=True)"
   ]
  },
  {
   "cell_type": "code",
   "execution_count": null,
   "metadata": {
    "id": "46wC7W_N4-b9"
   },
   "outputs": [],
   "source": [
    "# If running the code in Google Colab, use this cell to copy your dataset into the runtime environment.\n",
    "# This can significantly speed up the runtime of data creation processes by avoiding file access over the drive.\n",
    "import shutil\n",
    "\n",
    "# Source directory (the directory you want to copy)\n",
    "source_dir = '/content/drive/MyDrive/Dataset'\n",
    "\n",
    "# Destination directory (the directory where you want to paste the copied folder)\n",
    "destination_dir = '/content/Dataset'\n",
    "\n",
    "# Copy the folder from the source directory to the destination directory\n",
    "shutil.copytree(source_dir, destination_dir)"
   ]
  },
  {
   "cell_type": "markdown",
   "metadata": {},
   "source": [
    "<hr>"
   ]
  },
  {
   "cell_type": "code",
   "execution_count": 1,
   "metadata": {
    "id": "mXOVOqbnRsAy"
   },
   "outputs": [],
   "source": [
    "# Data path where the dataset will be stored\n",
    "created_data_path = \"./Dataset/created_data/\""
   ]
  },
  {
   "cell_type": "markdown",
   "metadata": {},
   "source": [
    "## Importing Librarires\n",
    "\n",
    "These libraries come preinstalled in the Google Colab, if doing loacally you need to install these dependencies"
   ]
  },
  {
   "cell_type": "code",
   "execution_count": 1,
   "metadata": {
    "id": "C2I0Jkq7R_Fm"
   },
   "outputs": [],
   "source": [
    "import os\n",
    "import pandas as pd\n",
    "from tqdm import tqdm\n",
    "import json\n",
    "from scipy.io import wavfile\n",
    "import librosa\n",
    "import numpy as np"
   ]
  },
  {
   "cell_type": "code",
   "execution_count": 3,
   "metadata": {
    "id": "QxUehBB9SkDh"
   },
   "outputs": [],
   "source": [
    "# path of prompts data stored in drive \n",
    "urls_for_prompts_data_creation = [\n",
    "    '/content/drive/MyDrive/Dataset/F/F01/Session1/prompts/',\n",
    "    '/content/drive/MyDrive/Dataset/F/F01/Session1/prompts/',\n",
    "    '/content/drive/MyDrive/Dataset/F/F01/Session1/prompts/',\n",
    "    '/content/drive/MyDrive/Dataset/F/F03/Session1/prompts/',\n",
    "    '/content/drive/MyDrive/Dataset/F/F03/Session1/prompts/',\n",
    "    '/content/drive/MyDrive/Dataset/F/F03/Session1/prompts/',\n",
    "    '/content/drive/MyDrive/Dataset/F/F03/Session2/prompts/',\n",
    "    '/content/drive/MyDrive/Dataset/F/F03/Session2/prompts/',\n",
    "    '/content/drive/MyDrive/Dataset/F/F03/Session2/prompts/',\n",
    "    '/content/drive/MyDrive/Dataset/F/F03/Session3/prompts/',\n",
    "    '/content/drive/MyDrive/Dataset/F/F03/Session3/prompts/',\n",
    "    '/content/drive/MyDrive/Dataset/F/F03/Session3/prompts/',\n",
    "    '/content/drive/MyDrive/Dataset/F/F04/Session1/prompts/',\n",
    "    '/content/drive/MyDrive/Dataset/F/F04/Session1/prompts/',\n",
    "    '/content/drive/MyDrive/Dataset/F/F04/Session1/prompts/',\n",
    "    '/content/drive/MyDrive/Dataset/F/F04/Session2/prompts/',\n",
    "    '/content/drive/MyDrive/Dataset/F/F04/Session2/prompts/',\n",
    "    '/content/drive/MyDrive/Dataset/F/F04/Session2/prompts/',\n",
    "    '/content/drive/MyDrive/Dataset/FC/FC01/Session1/prompts/',\n",
    "    '/content/drive/MyDrive/Dataset/FC/FC01/Session1/prompts/',\n",
    "    '/content/drive/MyDrive/Dataset/FC/FC01/Session1/prompts/',\n",
    "    '/content/drive/MyDrive/Dataset/FC/FC02/Session2/prompts/',\n",
    "    '/content/drive/MyDrive/Dataset/FC/FC02/Session2/prompts/',\n",
    "    '/content/drive/MyDrive/Dataset/FC/FC02/Session2/prompts/',\n",
    "    '/content/drive/MyDrive/Dataset/FC/FC02/Session3/prompts/',\n",
    "    '/content/drive/MyDrive/Dataset/FC/FC02/Session3/prompts/',\n",
    "    '/content/drive/MyDrive/Dataset/FC/FC02/Session3/prompts/',\n",
    "    '/content/drive/MyDrive/Dataset/FC/FC03/Session1/prompts/',\n",
    "    '/content/drive/MyDrive/Dataset/FC/FC03/Session1/prompts/',\n",
    "    '/content/drive/MyDrive/Dataset/FC/FC03/Session1/prompts/',\n",
    "    '/content/drive/MyDrive/Dataset/FC/FC03/Session2/prompts/',\n",
    "    '/content/drive/MyDrive/Dataset/FC/FC03/Session2/prompts/',\n",
    "    '/content/drive/MyDrive/Dataset/FC/FC03/Session2/prompts/',\n",
    "    '/content/drive/MyDrive/Dataset/FC/FC03/Session3/prompts/',\n",
    "    '/content/drive/MyDrive/Dataset/FC/FC03/Session3/prompts/',\n",
    "    '/content/drive/MyDrive/Dataset/FC/FC03/Session3/prompts/',\n",
    "    '/content/drive/MyDrive/Dataset/M/M01/Session1/prompts/',\n",
    "    '/content/drive/MyDrive/Dataset/M/M01/Session1/prompts/',\n",
    "    '/content/drive/MyDrive/Dataset/M/M01/Session1/prompts/',\n",
    "    '/content/drive/MyDrive/Dataset/M/M01/Session2_3/prompts/',\n",
    "    '/content/drive/MyDrive/Dataset/M/M01/Session2_3/prompts/',\n",
    "    '/content/drive/MyDrive/Dataset/M/M01/Session2_3/prompts/',\n",
    "    '/content/drive/MyDrive/Dataset/M/M02/Session1/prompts/',\n",
    "    '/content/drive/MyDrive/Dataset/M/M02/Session1/prompts/',\n",
    "    '/content/drive/MyDrive/Dataset/M/M02/Session1/prompts/',\n",
    "    '/content/drive/MyDrive/Dataset/M/M02/Session2/prompts/',\n",
    "    '/content/drive/MyDrive/Dataset/M/M02/Session2/prompts/',\n",
    "    '/content/drive/MyDrive/Dataset/M/M02/Session2/prompts/',\n",
    "    '/content/drive/MyDrive/Dataset/M/M03/Session2/prompts/',\n",
    "    '/content/drive/MyDrive/Dataset/M/M03/Session2/prompts/',\n",
    "    '/content/drive/MyDrive/Dataset/M/M03/Session2/prompts/',\n",
    "    '/content/drive/MyDrive/Dataset/M/M04/Session1/prompts/',\n",
    "    '/content/drive/MyDrive/Dataset/M/M04/Session1/prompts/',\n",
    "    '/content/drive/MyDrive/Dataset/M/M04/Session1/prompts/',\n",
    "    '/content/drive/MyDrive/Dataset/M/M04/Session2/prompts/',\n",
    "    '/content/drive/MyDrive/Dataset/M/M04/Session2/prompts/',\n",
    "    '/content/drive/MyDrive/Dataset/M/M04/Session2/prompts/',\n",
    "    '/content/drive/MyDrive/Dataset/M/M05/Session1/prompts/',\n",
    "    '/content/drive/MyDrive/Dataset/M/M05/Session1/prompts/',\n",
    "    '/content/drive/MyDrive/Dataset/M/M05/Session1/prompts/',\n",
    "    '/content/drive/MyDrive/Dataset/M/M05/Session2/prompts/',\n",
    "    '/content/drive/MyDrive/Dataset/M/M05/Session2/prompts/',\n",
    "    '/content/drive/MyDrive/Dataset/M/M05/Session2/prompts/',\n",
    "    '/content/drive/MyDrive/Dataset/MC/MC01/Session1/prompts/',\n",
    "    '/content/drive/MyDrive/Dataset/MC/MC01/Session1/prompts/',\n",
    "    '/content/drive/MyDrive/Dataset/MC/MC01/Session1/prompts/',\n",
    "    '/content/drive/MyDrive/Dataset/MC/MC01/Session2/prompts/',\n",
    "    '/content/drive/MyDrive/Dataset/MC/MC01/Session2/prompts/',\n",
    "    '/content/drive/MyDrive/Dataset/MC/MC01/Session2/prompts/',\n",
    "    '/content/drive/MyDrive/Dataset/MC/MC01/Session3/prompts/',\n",
    "    '/content/drive/MyDrive/Dataset/MC/MC01/Session3/prompts/',\n",
    "    '/content/drive/MyDrive/Dataset/MC/MC01/Session3/prompts/',\n",
    "    '/content/drive/MyDrive/Dataset/MC/MC02/Session1/prompts/',\n",
    "    '/content/drive/MyDrive/Dataset/MC/MC02/Session1/prompts/',\n",
    "    '/content/drive/MyDrive/Dataset/MC/MC02/Session1/prompts/',\n",
    "    '/content/drive/MyDrive/Dataset/MC/MC02/Session2/prompts/',\n",
    "    '/content/drive/MyDrive/Dataset/MC/MC02/Session2/prompts/',\n",
    "    '/content/drive/MyDrive/Dataset/MC/MC02/Session2/prompts/',\n",
    "    '/content/drive/MyDrive/Dataset/MC/MC03/Session1/prompts/',\n",
    "    '/content/drive/MyDrive/Dataset/MC/MC03/Session1/prompts/',\n",
    "    '/content/drive/MyDrive/Dataset/MC/MC03/Session1/prompts/',\n",
    "    '/content/drive/MyDrive/Dataset/MC/MC03/Session2/prompts/',\n",
    "    '/content/drive/MyDrive/Dataset/MC/MC03/Session2/prompts/',\n",
    "    '/content/drive/MyDrive/Dataset/MC/MC03/Session2/prompts/',\n",
    "    '/content/drive/MyDrive/Dataset/MC/MC04/Session1/prompts/',\n",
    "    '/content/drive/MyDrive/Dataset/MC/MC04/Session1/prompts/',\n",
    "    '/content/drive/MyDrive/Dataset/MC/MC04/Session1/prompts/',\n",
    "    '/content/drive/MyDrive/Dataset/MC/MC04/Session2/prompts/',\n",
    "    '/content/drive/MyDrive/Dataset/MC/MC04/Session2/prompts/',\n",
    "    '/content/drive/MyDrive/Dataset/MC/MC04/Session2/prompts/'\n",
    "]\n",
    "# path of audio data  stored in drive \n",
    "urls_for_audio_data_creation = [\n",
    "    \"/content/drive/MyDrive/Dataset/F/F01/Session1/wav_arrayMic/\",\n",
    "    \"/content/drive/MyDrive/Dataset/F/F01/Session1/wav_headMic/\",\n",
    "    \"/content/drive/MyDrive/Dataset/F/F01/Session1/wavall/\",\n",
    "\n",
    "    \"/content/drive/MyDrive/Dataset/F/F03/Session1/wav_arrayMic/\",\n",
    "    \"/content/drive/MyDrive/Dataset/F/F03/Session1/wav_headMic/\",\n",
    "    \"/content/drive/MyDrive/Dataset/F/F03/Session1/wavall/\",\n",
    "\n",
    "    \"/content/drive/MyDrive/Dataset/F/F03/Session2/wav_arrayMic/\",\n",
    "    \"/content/drive/MyDrive/Dataset/F/F03/Session2/wav_headMic/\",\n",
    "    \"/content/drive/MyDrive/Dataset/F/F03/Session2/wavall/\",\n",
    "\n",
    "    \"/content/drive/MyDrive/Dataset/F/F03/Session3/wav_arrayMic/\",\n",
    "    \"/content/drive/MyDrive/Dataset/F/F03/Session3/wav_headMic/\",\n",
    "    \"/content/drive/MyDrive/Dataset/F/F03/Session3/wavall/\",\n",
    "\n",
    "    \"/content/drive/MyDrive/Dataset/F/F04/Session1/wav_arrayMic/\",\n",
    "    \"/content/drive/MyDrive/Dataset/F/F04/Session1/wav_headMic/\",\n",
    "    \"/content/drive/MyDrive/Dataset/F/F04/Session1/wavall/\",\n",
    "\n",
    "    \"/content/drive/MyDrive/Dataset/F/F04/Session2/wav_arrayMic/\",\n",
    "    \"/content/drive/MyDrive/Dataset/F/F04/Session2/wav_headMic/\",\n",
    "    \"/content/drive/MyDrive/Dataset/F/F04/Session2/wavall/\",\n",
    "\n",
    "    \"/content/drive/MyDrive/Dataset/FC/FC01/Session1/wav_arrayMic/\",\n",
    "    \"/content/drive/MyDrive/Dataset/FC/FC01/Session1/wav_headMic/\",\n",
    "    \"/content/drive/MyDrive/Dataset/FC/FC01/Session1/wavall/\",\n",
    "\n",
    "    \"/content/drive/MyDrive/Dataset/FC/FC02/Session2/wav_arrayMic/\",\n",
    "    \"/content/drive/MyDrive/Dataset/FC/FC02/Session2/wav_headMic/\",\n",
    "    \"/content/drive/MyDrive/Dataset/FC/FC02/Session2/wavall/\",\n",
    "\n",
    "    \"/content/drive/MyDrive/Dataset/FC/FC02/Session3/wav_arrayMic/\",\n",
    "    \"/content/drive/MyDrive/Dataset/FC/FC02/Session3/wav_headMic/\",\n",
    "    \"/content/drive/MyDrive/Dataset/FC/FC02/Session3/wavall/\",\n",
    "\n",
    "    \"/content/drive/MyDrive/Dataset/FC/FC03/Session1/wav_arrayMic/\",\n",
    "    \"/content/drive/MyDrive/Dataset/FC/FC03/Session1/wav_headMic/\",\n",
    "    \"/content/drive/MyDrive/Dataset/FC/FC03/Session1/wavall/\",\n",
    "\n",
    "    \"/content/drive/MyDrive/Dataset/FC/FC03/Session2/wav_arrayMic/\",\n",
    "    \"/content/drive/MyDrive/Dataset/FC/FC03/Session2/wav_headMic/\",\n",
    "    \"/content/drive/MyDrive/Dataset/FC/FC03/Session2/wavall/\",\n",
    "\n",
    "    \"/content/drive/MyDrive/Dataset/FC/FC03/Session3/wav_arrayMic/\",\n",
    "    \"/content/drive/MyDrive/Dataset/FC/FC03/Session3/wav_headMic/\",\n",
    "    \"/content/drive/MyDrive/Dataset/FC/FC03/Session3/wavall/\",\n",
    "\n",
    "    \"/content/drive/MyDrive/Dataset/M/M01/Session1/wav_arrayMic/\",\n",
    "    \"/content/drive/MyDrive/Dataset/M/M01/Session1/wav_headMic/\",\n",
    "    \"/content/drive/MyDrive/Dataset/M/M01/Session1/wavall/\",\n",
    "\n",
    "    \"/content/drive/MyDrive/Dataset/M/M01/Session2_3/wav_arrayMic/\",\n",
    "    \"/content/drive/MyDrive/Dataset/M/M01/Session2_3/wav_headMic/\",\n",
    "    \"/content/drive/MyDrive/Dataset/M/M01/Session2_3/wavall/\",\n",
    "\n",
    "    \"/content/drive/MyDrive/Dataset/M/M02/Session1/wav_arrayMic/\",\n",
    "    \"/content/drive/MyDrive/Dataset/M/M02/Session1/wav_headMic/\",\n",
    "    \"/content/drive/MyDrive/Dataset/M/M02/Session1/wavall/\",\n",
    "\n",
    "    \"/content/drive/MyDrive/Dataset/M/M02/Session2/wav_arrayMic/\",\n",
    "    \"/content/drive/MyDrive/Dataset/M/M02/Session2/wav_headMic/\",\n",
    "    \"/content/drive/MyDrive/Dataset/M/M02/Session2/wavall/\",\n",
    "\n",
    "    \"/content/drive/MyDrive/Dataset/M/M03/Session2/wav_arrayMic/\",\n",
    "    \"/content/drive/MyDrive/Dataset/M/M03/Session2/wav_headMic/\",\n",
    "    \"/content/drive/MyDrive/Dataset/M/M03/Session2/wavall/\",\n",
    "\n",
    "    \"/content/drive/MyDrive/Dataset/M/M04/Session1/wav_arrayMic/\",\n",
    "    \"/content/drive/MyDrive/Dataset/M/M04/Session1/wav_headMic/\",\n",
    "    \"/content/drive/MyDrive/Dataset/M/M04/Session1/wavall/\",\n",
    "\n",
    "    \"/content/drive/MyDrive/Dataset/M/M04/Session2/wav_arrayMic/\",\n",
    "    \"/content/drive/MyDrive/Dataset/M/M04/Session2/wav_headMic/\",\n",
    "    \"/content/drive/MyDrive/Dataset/M/M04/Session2/wavall/\",\n",
    "\n",
    "    \"/content/drive/MyDrive/Dataset/M/M05/Session1/wav_arrayMic/\",\n",
    "    \"/content/drive/MyDrive/Dataset/M/M05/Session1/wav_headMic/\",\n",
    "    \"/content/drive/MyDrive/Dataset/M/M05/Session1/wavall/\",\n",
    "\n",
    "    \"/content/drive/MyDrive/Dataset/M/M05/Session2/wav_headMic/\",\n",
    "    \"/content/drive/MyDrive/Dataset/M/M05/Session2/wav_headMic/\",\n",
    "    \"/content/drive/MyDrive/Dataset/M/M05/Session2/wavall/\",\n",
    "\n",
    "    \"/content/drive/MyDrive/Dataset/MC/MC01/Session1/wav_arrayMic/\",\n",
    "    \"/content/drive/MyDrive/Dataset/MC/MC01/Session1/wav_headMic/\",\n",
    "    \"/content/drive/MyDrive/Dataset/MC/MC01/Session1/wavall/\",\n",
    "\n",
    "    \"/content/drive/MyDrive/Dataset/MC/MC01/Session2/wav_arrayMic/\",\n",
    "    \"/content/drive/MyDrive/Dataset/MC/MC01/Session2/wav_headMic/\",\n",
    "    \"/content/drive/MyDrive/Dataset/MC/MC01/Session2/wavall/\",\n",
    "\n",
    "    \"/content/drive/MyDrive/Dataset/MC/MC01/Session3/wav_arrayMic/\",\n",
    "    \"/content/drive/MyDrive/Dataset/MC/MC01/Session3/wav_headMic/\",\n",
    "    \"/content/drive/MyDrive/Dataset/MC/MC01/Session3/wavall/\",\n",
    "\n",
    "    \"/content/drive/MyDrive/Dataset/MC/MC02/Session1/wav_arrayMic/\",\n",
    "    \"/content/drive/MyDrive/Dataset/MC/MC02/Session1/wav_headMic/\",\n",
    "    \"/content/drive/MyDrive/Dataset/MC/MC02/Session1/wavall/\",\n",
    "\n",
    "    \"/content/drive/MyDrive/Dataset/MC/MC02/Session2/wav_arrayMic/\",\n",
    "    \"/content/drive/MyDrive/Dataset/MC/MC02/Session2/wav_headMic/\",\n",
    "    \"/content/drive/MyDrive/Dataset/MC/MC02/Session2/wavall/\",\n",
    "\n",
    "    \"/content/drive/MyDrive/Dataset/MC/MC03/Session1/wav_arrayMic/\",\n",
    "    \"/content/drive/MyDrive/Dataset/MC/MC03/Session1/wav_headMic/\",\n",
    "    \"/content/drive/MyDrive/Dataset/MC/MC03/Session1/wavall/\",\n",
    "\n",
    "    \"/content/drive/MyDrive/Dataset/MC/MC03/Session2/wav_arrayMic/\",\n",
    "    \"/content/drive/MyDrive/Dataset/MC/MC03/Session2/wav_headMic/\",\n",
    "    \"/content/drive/MyDrive/Dataset/MC/MC03/Session2/wavall/\",\n",
    "\n",
    "    \"/content/drive/MyDrive/Dataset/MC/MC04/Session1/wav_arrayMic/\",\n",
    "    \"/content/drive/MyDrive/Dataset/MC/MC04/Session1/wav_headMic/\",\n",
    "    \"/content/drive/MyDrive/Dataset/MC/MC04/Session1/wavall/\",\n",
    "\n",
    "    \"/content/drive/MyDrive/Dataset/MC/MC04/Session2/wav_arrayMic/\",\n",
    "    \"/content/drive/MyDrive/Dataset/MC/MC04/Session2/wav_headMic/\",\n",
    "    \"/content/drive/MyDrive/Dataset/MC/MC04/Session2/wavall/\"\n",
    "\n",
    "]"
   ]
  },
  {
   "cell_type": "code",
   "execution_count": null,
   "metadata": {},
   "outputs": [],
   "source": [
    "# if loading the dataset in local then run this cell so as to get the local path\n",
    "urls_for_prompts_data_creation = [x.replace(\"/content/drive/MyDrive\", '.') for x in urls_for_prompts_data_creation]\n",
    "urls_for_audio_data_creation = [x.replace(\"/content/drive/MyDrive\", '.') for x in urls_for_audio_data_creation]"
   ]
  },
  {
   "cell_type": "code",
   "execution_count": 4,
   "metadata": {
    "colab": {
     "base_uri": "https://localhost:8080/"
    },
    "id": "1YoS4DpErj3I",
    "outputId": "0bd2a576-c399-4f01-e5fc-86fd28cfc84f"
   },
   "outputs": [
    {
     "name": "stdout",
     "output_type": "stream",
     "text": [
      "90 90\n"
     ]
    }
   ],
   "source": [
    "len_prompt_files = len(urls_for_prompts_data_creation)\n",
    "len_audio_files = len(urls_for_audio_data_creation)\n",
    "print(len_prompt_files, len_audio_files)"
   ]
  },
  {
   "cell_type": "markdown",
   "metadata": {},
   "source": [
    "#### This is the dataframe that we will be populating later."
   ]
  },
  {
   "cell_type": "code",
   "execution_count": 5,
   "metadata": {
    "id": "ojLfVQYohU3j"
   },
   "outputs": [],
   "source": [
    "# Define the columns and data types\n",
    "columns = ['sex', 'subject', 'control', 'promptFileName', 'prompt',\n",
    "           'sample_rate','samples', 'micType']\n",
    "# 0: arrayMic, 1: headMic, 2: wavall\n",
    "dtypes = [('sex', 'int'), ('subject', 'string'), ('control', 'int'),\n",
    " ('promptFileName', 'string'), ('prompt', 'string'), ('sample_rate', 'int'), ('samples','O'),\n",
    "          ('micType', 'int')]\n",
    "\n",
    "# Create an empty DataFrame with specified columns and data types\n",
    "# Creating csv file of the dataframe\n",
    "data = pd.DataFrame(columns=columns)\n",
    "data = data.astype(dict(dtypes))\n",
    "data.to_csv(created_data_path + \"dataset_with_samples.csv\", index=False)"
   ]
  },
  {
   "cell_type": "code",
   "execution_count": 6,
   "metadata": {
    "colab": {
     "base_uri": "https://localhost:8080/",
     "height": 53
    },
    "id": "xYJh8Gv9i7Uf",
    "outputId": "445fe9b6-7f5c-4bd7-c3e0-96413b93bb62"
   },
   "outputs": [
    {
     "data": {
      "text/html": [
       "<div>\n",
       "<style scoped>\n",
       "    .dataframe tbody tr th:only-of-type {\n",
       "        vertical-align: middle;\n",
       "    }\n",
       "\n",
       "    .dataframe tbody tr th {\n",
       "        vertical-align: top;\n",
       "    }\n",
       "\n",
       "    .dataframe thead th {\n",
       "        text-align: right;\n",
       "    }\n",
       "</style>\n",
       "<table border=\"1\" class=\"dataframe\">\n",
       "  <thead>\n",
       "    <tr style=\"text-align: right;\">\n",
       "      <th></th>\n",
       "      <th>sex</th>\n",
       "      <th>subject</th>\n",
       "      <th>control</th>\n",
       "      <th>promptFileName</th>\n",
       "      <th>prompt</th>\n",
       "      <th>sample_rate</th>\n",
       "      <th>samples</th>\n",
       "      <th>micType</th>\n",
       "    </tr>\n",
       "  </thead>\n",
       "  <tbody>\n",
       "  </tbody>\n",
       "</table>\n",
       "</div>"
      ],
      "text/plain": [
       "Empty DataFrame\n",
       "Columns: [sex, subject, control, promptFileName, prompt, sample_rate, samples, micType]\n",
       "Index: []"
      ]
     },
     "execution_count": 6,
     "metadata": {},
     "output_type": "execute_result"
    }
   ],
   "source": [
    "# reading the csv file \n",
    "dataset = pd.read_csv(created_data_path + \"dataset_with_samples.csv\")\n",
    "dataset"
   ]
  },
  {
   "cell_type": "markdown",
   "metadata": {},
   "source": [
    "#### The code below creates two JSON, one maps audio samples to their prompts and the other one maps prompts to the audio samples. These are reusable components for the following notebooks."
   ]
  },
  {
   "cell_type": "code",
   "execution_count": 7,
   "metadata": {
    "colab": {
     "base_uri": "https://localhost:8080/"
    },
    "id": "JdCMhRZtSmbA",
    "outputId": "9df3464b-dd59-461e-daf5-406d3e8f98f4"
   },
   "outputs": [
    {
     "name": "stderr",
     "output_type": "stream",
     "text": [
      " 18%|█▊        | 16/90 [00:00<00:00, 152.06it/s]"
     ]
    },
    {
     "name": "stdout",
     "output_type": "stream",
     "text": [
      "Folder does'nt exist: ./Dataset/F/F01/Session1/wavall/\n",
      "Folder does'nt exist: ./Dataset/F/F03/Session1/wavall/\n",
      "Folder does'nt exist: ./Dataset/F/F04/Session1/wav_headMic/\n",
      "Folder does'nt exist: ./Dataset/F/F04/Session1/wavall/\n",
      "Folder does'nt exist: ./Dataset/FC/FC02/Session2/wav_headMic/\n",
      "Folder does'nt exist: ./Dataset/FC/FC02/Session2/wavall/\n"
     ]
    },
    {
     "name": "stderr",
     "output_type": "stream",
     "text": [
      " 56%|█████▌    | 50/90 [00:00<00:00, 68.64it/s] "
     ]
    },
    {
     "name": "stdout",
     "output_type": "stream",
     "text": [
      "Folder does'nt exist: ./Dataset/FC/FC03/Session3/wavall/\n",
      "Folder does'nt exist: ./Dataset/M/M01/Session2_3/wavall/\n",
      "Folder does'nt exist: ./Dataset/M/M02/Session1/wavall/\n",
      "Folder does'nt exist: ./Dataset/M/M04/Session1/wav_headMic/\n",
      "Folder does'nt exist: ./Dataset/M/M04/Session1/wavall/\n"
     ]
    },
    {
     "name": "stderr",
     "output_type": "stream",
     "text": [
      " 81%|████████  | 73/90 [00:01<00:00, 63.69it/s]"
     ]
    },
    {
     "name": "stdout",
     "output_type": "stream",
     "text": [
      "Folder does'nt exist: ./Dataset/MC/MC01/Session2/wavall/\n"
     ]
    },
    {
     "name": "stderr",
     "output_type": "stream",
     "text": [
      "\r",
      " 91%|█████████ | 82/90 [00:01<00:00, 49.75it/s]"
     ]
    },
    {
     "name": "stdout",
     "output_type": "stream",
     "text": [
      "Folder does'nt exist: ./Dataset/MC/MC03/Session2/wavall/\n"
     ]
    },
    {
     "name": "stderr",
     "output_type": "stream",
     "text": [
      "100%|██████████| 90/90 [00:01<00:00, 53.87it/s]"
     ]
    },
    {
     "name": "stdout",
     "output_type": "stream",
     "text": [
      "Folder does'nt exist: ./Dataset/MC/MC04/Session2/wav_headMic/\n",
      "Folder does'nt exist: ./Dataset/MC/MC04/Session2/wavall/\n",
      "Not matched:  672\n",
      "Total wav files:  25117\n",
      "Total prompt files:  28482\n"
     ]
    },
    {
     "name": "stderr",
     "output_type": "stream",
     "text": [
      "\n"
     ]
    }
   ],
   "source": [
    "cnt_not_matched = 0 # counter for wav file not matched \n",
    "total_wav_files = 0 # counter for total wav file\n",
    "total_prompt_files = 0 # counter for total prompt files\n",
    "wav_to_prompt_matching = {} # dictionary to store mapping between wav file and prompt file\n",
    "\n",
    "# iterate through the prompt files url to process each folder\n",
    "for i in tqdm(range(len_prompt_files)):\n",
    "    prompt_files = []\n",
    "    wav_files = []\n",
    "    # get current prompt and WAV folder for processing\n",
    "    curr_prompt_folder = urls_for_prompts_data_creation[i]\n",
    "    curr_wav_folder = urls_for_audio_data_creation[i]\n",
    "    # try to access prompt file in the current folder\n",
    "    try:\n",
    "        for file in os.listdir(curr_prompt_folder):\n",
    "            prompt_files.append(file)\n",
    "            total_prompt_files += 1\n",
    "    except:\n",
    "        print(f\"Folder does'nt exist: {curr_prompt_folder}\")\n",
    "        \n",
    "    # Try to access WAV files in the current folder and match them with prompt files.\n",
    "    try:\n",
    "        for file in os.listdir(curr_wav_folder):\n",
    "            total_wav_files += 1\n",
    "            found = 0\n",
    "            # fileNo = file.replace(\".wav\", \"\")\n",
    "            # fileNo = fileNo.replace(\".all\", \"\")\n",
    "            \n",
    "            # Extract the file number from WAV filename\n",
    "            fileNo = file[:4]\n",
    "            # check if there is corresponding prompt file\n",
    "            for x in prompt_files:\n",
    "                if x.find(fileNo) != -1:\n",
    "                    #store the mapping between WAV file and prompt file\n",
    "                    wav_to_prompt_matching[curr_wav_folder + file] = curr_prompt_folder + x\n",
    "                    found = 1\n",
    "                    break\n",
    "            if found == 0:\n",
    "                # If no matching prompt file is found, increment the counter\n",
    "                cnt_not_matched += 1\n",
    "    except:\n",
    "        print(f\"Folder does'nt exist: {curr_wav_folder}\")\n",
    "        \n",
    "# print the summary statistics\n",
    "print(\"Not matched: \", cnt_not_matched)\n",
    "print(\"Total wav files: \", total_wav_files)\n",
    "print(\"Total prompt files: \", total_prompt_files)"
   ]
  },
  {
   "cell_type": "code",
   "execution_count": 8,
   "metadata": {
    "colab": {
     "base_uri": "https://localhost:8080/"
    },
    "id": "Vrh2au0X3Ygw",
    "outputId": "d67c1fd1-6be9-4bc8-865c-98a18accb68b"
   },
   "outputs": [
    {
     "name": "stdout",
     "output_type": "stream",
     "text": [
      "Total samples found: 24052\n"
     ]
    }
   ],
   "source": [
    "print(f\"Total samples found: {len(wav_to_prompt_matching)}\")"
   ]
  },
  {
   "cell_type": "code",
   "execution_count": null,
   "metadata": {
    "id": "tpSVgJtlHmxZ"
   },
   "outputs": [],
   "source": [
    "# saving JSON file of wav_to_prompt_matching\n",
    "with open(created_data_path + 'wav_to_prompt_matching.json', 'w') as json_file:\n",
    "    json.dump(wav_to_prompt_matching, json_file)"
   ]
  },
  {
   "cell_type": "code",
   "execution_count": 17,
   "metadata": {
    "id": "q5WnYJpFKcfG"
   },
   "outputs": [],
   "source": [
    "# Reading the JSON file\n",
    "with open(created_data_path +'wav_to_prompt_matching.json', 'r') as file:\n",
    "    # Loading the JSON data\n",
    "    wav_to_prompt_matching = json.load(file)"
   ]
  },
  {
   "cell_type": "markdown",
   "metadata": {},
   "source": [
    "#### Using the JSON created, we create a datafram with columns defined above. This is the our workable dataset with all the required details."
   ]
  },
  {
   "cell_type": "code",
   "execution_count": 19,
   "metadata": {
    "colab": {
     "base_uri": "https://localhost:8080/"
    },
    "id": "a8G7jJQ_glQK",
    "outputId": "e0a22eea-c138-47cb-8697-a0ba859497a6"
   },
   "outputs": [
    {
     "name": "stderr",
     "output_type": "stream",
     "text": [
      "  1%|          | 176/24052 [00:00<01:53, 210.01it/s]C:\\Users\\pajin\\AppData\\Local\\Temp\\ipykernel_12536\\2755355081.py:6: UserWarning: PySoundFile failed. Trying audioread instead.\n",
      "  samples, sample_rate = librosa.load(wav_file, sr=16000)\n",
      "C:\\Users\\pajin\\anaconda3\\lib\\site-packages\\librosa\\core\\audio.py:183: FutureWarning: librosa.core.audio.__audioread_load\n",
      "\tDeprecated as of librosa version 0.10.0.\n",
      "\tIt will be removed in librosa version 1.0.\n",
      "  y, sr_native = __audioread_load(path, offset, duration, dtype)\n",
      "  1%|          | 219/24052 [00:01<02:00, 197.89it/s]"
     ]
    },
    {
     "name": "stdout",
     "output_type": "stream",
     "text": [
      "Can not read this wav file: ./Dataset/F/F01/Session1/wav_headMic/0067.wav\n",
      "Can not read this wav file: ./Dataset/F/F01/Session1/wav_headMic/0068.wav\n"
     ]
    },
    {
     "name": "stderr",
     "output_type": "stream",
     "text": [
      "100%|██████████| 24052/24052 [11:01<00:00, 36.36it/s]\n"
     ]
    }
   ],
   "source": [
    "dataset = pd.read_csv(created_data_path + \"dataset_with_samples.csv\")\n",
    "# iterate through the the WAV files and their corresponding prompt files to process and add information to the dataset\n",
    "for wav_file in tqdm(list(wav_to_prompt_matching.keys())):\n",
    "    \n",
    "    # reading the prompt file for the given wav_file\n",
    "    prompt_file = wav_to_prompt_matching[wav_file]\n",
    "    # try to load the WAV file using librosa for audio processing\n",
    "    try:\n",
    "        # load the WAV file and specify the sample rate as 16000 Hz\n",
    "        samples, sample_rate = librosa.load(wav_file, sr=16000)\n",
    "    except:\n",
    "        # If the WAV file cannot be read, print error message and continue to the next file\n",
    "        print(f\"Can not read this wav file: {wav_file}\")\n",
    "        continue\n",
    "    \n",
    "    sex = 0\n",
    "    control = 0\n",
    "    micType = 0\n",
    "    \n",
    "    # Extract additional attributes from the WAV file path\n",
    "    if wav_file.split('/')[2] == 'M' or wav_file.split('/')[2] == 'MC':\n",
    "        sex = 1\n",
    "    if wav_file.split('/')[2] == 'MC' or wav_file.split('/')[2] == 'FC':\n",
    "        control = 1\n",
    "    if wav_file.split('/')[5] == 'wav_headMic':\n",
    "        micType = 1\n",
    "    elif wav_file.split('/')[5] == 'wavall':\n",
    "        micType = 2\n",
    "        \n",
    "     # Try to read the content of the prompt file\n",
    "    try:\n",
    "        with open(prompt_file, 'r') as prompt:\n",
    "            content = prompt.read()\n",
    "             # Create a new row with information extracted from the WAV and prompt files\n",
    "            new_row = {\n",
    "                    'sex': sex,\n",
    "                    'subject': prompt_file.split('/')[3],\n",
    "                    'control': control,\n",
    "                    'promptFileName': prompt_file,\n",
    "                    'prompt': content,\n",
    "                    'sample_rate': sample_rate,\n",
    "                     'samples': samples,\n",
    "                    'micType': micType\n",
    "                }\n",
    "        # Append the new row to the dataset\n",
    "        dataset.loc[len(dataset)] = new_row\n",
    "    except:\n",
    "        # If the prompt file cannot be read, print error message and continue to the next file\n",
    "        print(f\"Can not read this prompt file: {prompt_file}\")"
   ]
  },
  {
   "cell_type": "code",
   "execution_count": 23,
   "metadata": {},
   "outputs": [],
   "source": [
    "# saving the dataset to pickle format\n",
    "dataset.to_pickle(created_data_path +\"dataset.pkl\")"
   ]
  },
  {
   "cell_type": "markdown",
   "metadata": {
    "id": "onVl9abCaKC-"
   },
   "source": []
  }
 ],
 "metadata": {
  "colab": {
   "provenance": []
  },
  "kernelspec": {
   "display_name": "Python 3 (ipykernel)",
   "language": "python",
   "name": "python3"
  },
  "language_info": {
   "codemirror_mode": {
    "name": "ipython",
    "version": 3
   },
   "file_extension": ".py",
   "mimetype": "text/x-python",
   "name": "python",
   "nbconvert_exporter": "python",
   "pygments_lexer": "ipython3",
   "version": "3.9.7"
  }
 },
 "nbformat": 4,
 "nbformat_minor": 1
}
